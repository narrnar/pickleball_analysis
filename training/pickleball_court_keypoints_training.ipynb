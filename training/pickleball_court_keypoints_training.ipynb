{
 "cells": [
  {
   "cell_type": "markdown",
   "id": "96a1d467",
   "metadata": {},
   "source": [
    "# Get Dataset"
   ]
  },
  {
   "cell_type": "code",
   "execution_count": 1,
   "id": "b35691cb",
   "metadata": {},
   "outputs": [
    {
     "name": "stdout",
     "output_type": "stream",
     "text": [
      "Requirement already satisfied: roboflow in /opt/anaconda3/lib/python3.12/site-packages (1.2.7)\n",
      "Requirement already satisfied: certifi in /opt/anaconda3/lib/python3.12/site-packages (from roboflow) (2025.1.31)\n",
      "Requirement already satisfied: idna==3.7 in /opt/anaconda3/lib/python3.12/site-packages (from roboflow) (3.7)\n",
      "Requirement already satisfied: cycler in /opt/anaconda3/lib/python3.12/site-packages (from roboflow) (0.11.0)\n",
      "Requirement already satisfied: kiwisolver>=1.3.1 in /opt/anaconda3/lib/python3.12/site-packages (from roboflow) (1.4.4)\n",
      "Requirement already satisfied: matplotlib in /opt/anaconda3/lib/python3.12/site-packages (from roboflow) (3.9.2)\n",
      "Requirement already satisfied: numpy>=1.18.5 in /opt/anaconda3/lib/python3.12/site-packages (from roboflow) (1.26.4)\n",
      "Requirement already satisfied: opencv-python-headless==4.10.0.84 in /opt/anaconda3/lib/python3.12/site-packages (from roboflow) (4.10.0.84)\n",
      "Requirement already satisfied: Pillow>=7.1.2 in /opt/anaconda3/lib/python3.12/site-packages (from roboflow) (11.3.0)\n",
      "Requirement already satisfied: pi-heif<2 in /opt/anaconda3/lib/python3.12/site-packages (from roboflow) (1.1.0)\n",
      "Requirement already satisfied: pillow-avif-plugin<2 in /opt/anaconda3/lib/python3.12/site-packages (from roboflow) (1.5.2)\n",
      "Requirement already satisfied: python-dateutil in /opt/anaconda3/lib/python3.12/site-packages (from roboflow) (2.9.0.post0)\n",
      "Requirement already satisfied: python-dotenv in /opt/anaconda3/lib/python3.12/site-packages (from roboflow) (0.21.0)\n",
      "Requirement already satisfied: requests in /opt/anaconda3/lib/python3.12/site-packages (from roboflow) (2.32.3)\n",
      "Requirement already satisfied: six in /opt/anaconda3/lib/python3.12/site-packages (from roboflow) (1.16.0)\n",
      "Requirement already satisfied: urllib3>=1.26.6 in /opt/anaconda3/lib/python3.12/site-packages (from roboflow) (2.2.3)\n",
      "Requirement already satisfied: tqdm>=4.41.0 in /opt/anaconda3/lib/python3.12/site-packages (from roboflow) (4.66.5)\n",
      "Requirement already satisfied: PyYAML>=5.3.1 in /opt/anaconda3/lib/python3.12/site-packages (from roboflow) (6.0.1)\n",
      "Requirement already satisfied: requests-toolbelt in /opt/anaconda3/lib/python3.12/site-packages (from roboflow) (1.0.0)\n",
      "Requirement already satisfied: filetype in /opt/anaconda3/lib/python3.12/site-packages (from roboflow) (1.2.0)\n",
      "Requirement already satisfied: contourpy>=1.0.1 in /opt/anaconda3/lib/python3.12/site-packages (from matplotlib->roboflow) (1.2.0)\n",
      "Requirement already satisfied: fonttools>=4.22.0 in /opt/anaconda3/lib/python3.12/site-packages (from matplotlib->roboflow) (4.51.0)\n",
      "Requirement already satisfied: packaging>=20.0 in /opt/anaconda3/lib/python3.12/site-packages (from matplotlib->roboflow) (24.1)\n",
      "Requirement already satisfied: pyparsing>=2.3.1 in /opt/anaconda3/lib/python3.12/site-packages (from matplotlib->roboflow) (3.1.2)\n",
      "Requirement already satisfied: charset-normalizer<4,>=2 in /opt/anaconda3/lib/python3.12/site-packages (from requests->roboflow) (3.3.2)\n",
      "loading Roboflow workspace...\n",
      "loading Roboflow project...\n"
     ]
    },
    {
     "name": "stderr",
     "output_type": "stream",
     "text": [
      "Downloading Dataset Version Zip in Pickleball-Court-Keypoints-6 to coco:: 100%|██████████| 4035/4035 [00:00<00:00, 11319.68it/s]"
     ]
    },
    {
     "name": "stdout",
     "output_type": "stream",
     "text": [
      "\n"
     ]
    },
    {
     "name": "stderr",
     "output_type": "stream",
     "text": [
      "\n",
      "Extracting Dataset Version Zip to Pickleball-Court-Keypoints-6 in coco:: 100%|██████████| 49/49 [00:00<00:00, 2191.29it/s]\n"
     ]
    }
   ],
   "source": [
    "# Get roboflow data for pickleball court keypoints detection training\n",
    "!pip install roboflow\n",
    "\n",
    "from roboflow import Roboflow\n",
    "rf = Roboflow(api_key=\"K5y7hyQBmDKQ82NzgM5Q\")\n",
    "project = rf.workspace(\"pickleball-ball-detection\").project(\"pickleball-court-keypoints-syncz\")\n",
    "version = project.version(6)\n",
    "dataset = version.download(\"coco\")"
   ]
  },
  {
   "cell_type": "markdown",
   "id": "7b0bc27f",
   "metadata": {},
   "source": [
    "# Start Code"
   ]
  },
  {
   "cell_type": "code",
   "execution_count": 2,
   "id": "5f640135",
   "metadata": {},
   "outputs": [],
   "source": [
    "import torch\n",
    "from torch.utils.data import Dataset, DataLoader\n",
    "from torchvision import models, transforms\n",
    "\n",
    "import json\n",
    "import cv2\n",
    "import numpy as np"
   ]
  },
  {
   "cell_type": "code",
   "execution_count": 3,
   "id": "a1290d12",
   "metadata": {},
   "outputs": [],
   "source": [
    "device = torch.device(\"cuda\" if torch.cuda.is_available() else \"cpu\")"
   ]
  },
  {
   "cell_type": "markdown",
   "id": "267268dc",
   "metadata": {},
   "source": [
    "# Create Torch Dataset"
   ]
  },
  {
   "cell_type": "code",
   "execution_count": 24,
   "id": "d51b5d7d",
   "metadata": {},
   "outputs": [],
   "source": [
    "class keyPointsDataset(Dataset):\n",
    "    def __init__(self, img_dir, data_file):\n",
    "        self.img_dir = img_dir\n",
    "        with open(data_file, \"r\") as f:\n",
    "            self.data = json.load(f)\n",
    "        \n",
    "        self.transforms = transforms.Compose([\n",
    "            transforms.ToPILImage(),\n",
    "            transforms.Resize((224, 224)),\n",
    "            transforms.ToTensor(),\n",
    "            transforms.Normalize(mean=[0.485, 0.456, 0.406], std=[0.229, 0.224, 0.225])\n",
    "        ])\n",
    "\n",
    "    def __len__(self):\n",
    "        return len(self.data)\n",
    "    \n",
    "    def __getitem__(self, idx):\n",
    "        item = self.data[idx]\n",
    "        img = cv2.imread(f\"{self.img_dir}/{item['id']}.png\")\n",
    "        h, w = img.shape[:2]\n",
    "\n",
    "        img = cv2.cvtColor(img, cv2.COLOR_BGR2RGB)\n",
    "        img = self.transforms(img)\n",
    "        kps = np.array(item['kps']).flatten()\n",
    "        kps = kps.astype(np.float32)\n",
    "\n",
    "        # Adjust keypoints\n",
    "        kps[::2] *= (224 / w) # Adjust x coordinates\n",
    "        kps[1::2] *= (224 / h) # Adjust y coordinates\n",
    "\n",
    "        return img, kps\n",
    "    "
   ]
  },
  {
   "cell_type": "code",
   "execution_count": 25,
   "id": "aaabdb84",
   "metadata": {},
   "outputs": [
    {
     "name": "stdout",
     "output_type": "stream",
     "text": [
      "Roboflow train: /Users/darensivam/Desktop/Projects/pickleball/training/Pickleball-Court-Keypoints-6/train /Users/darensivam/Desktop/Projects/pickleball/training/Pickleball-Court-Keypoints-6/train/_annotations.coco.json\n",
      "Roboflow val  : /Users/darensivam/Desktop/Projects/pickleball/training/Pickleball-Court-Keypoints-6/valid /Users/darensivam/Desktop/Projects/pickleball/training/Pickleball-Court-Keypoints-6/valid/_annotations.coco.json\n",
      "✅ Wrote 29 -> data/images and data/data_train.json\n",
      "✅ Wrote 8 -> data/images_val and data/data_val.json\n",
      "train_images: data/images\n",
      "train_ann   : data/data_train.json\n",
      "val_images  : data/images_val\n",
      "val_ann     : data/data_val.json\n"
     ]
    }
   ],
   "source": [
    "# Adjust file paths\n",
    "# Using RoboFlow JSON COCO format -> adapt to your tutorial's JSON (\"id\", \"kps\")\n",
    "from pathlib import Path\n",
    "import json\n",
    "from PIL import Image\n",
    "\n",
    "root = Path(dataset.location)\n",
    "inner = root / \"Pickleball-1\" if (root / \"Pickleball-1\").exists() else root  # handle earlier nesting\n",
    "\n",
    "rf_train_images = inner / \"train\"\n",
    "rf_val_images   = inner / (\"valid\" if (inner / \"valid\").exists() else \"val\")\n",
    "rf_train_ann    = rf_train_images / \"_annotations.coco.json\"\n",
    "rf_val_ann      = rf_val_images   / \"_annotations.coco.json\"\n",
    "\n",
    "print(\"Roboflow train:\", rf_train_images, rf_train_ann)\n",
    "print(\"Roboflow val  :\", rf_val_images,   rf_val_ann)\n",
    "\n",
    "out_root         = Path(\"data\")\n",
    "out_root.mkdir(exist_ok=True)\n",
    "out_train_images = out_root / \"images\"\n",
    "out_val_images   = out_root / \"images_val\"\n",
    "out_train_json   = out_root / \"data_train.json\"\n",
    "out_val_json     = out_root / \"data_val.json\"\n",
    "out_train_images.mkdir(parents=True, exist_ok=True)\n",
    "out_val_images.mkdir(parents=True, exist_ok=True)\n",
    "\n",
    "def export_split(src_img_dir: Path, coco_json: Path, dst_img_dir: Path, dst_json: Path) -> int:\n",
    "    data = json.load(open(coco_json))\n",
    "    id2file = {im[\"id\"]: im[\"file_name\"] for im in data[\"images\"]}\n",
    "\n",
    "    # pick one annotation per image (most keypoints wins)\n",
    "    by_img = {}\n",
    "    for a in data[\"annotations\"]:\n",
    "        if \"keypoints\" not in a or not a[\"keypoints\"]:\n",
    "            continue\n",
    "        img_id = a[\"image_id\"]\n",
    "        p = by_img.get(img_id)\n",
    "        if p is None or a.get(\"num_keypoints\", 0) > p.get(\"num_keypoints\", 0):\n",
    "            by_img[img_id] = a\n",
    "\n",
    "    items = []\n",
    "    for img_id, fname in id2file.items():\n",
    "        if img_id not in by_img:\n",
    "            continue\n",
    "        src = src_img_dir / fname\n",
    "        alt = src_img_dir / \"images\" / fname\n",
    "        if not src.exists() and alt.exists():\n",
    "            src = alt\n",
    "        if not src.exists():\n",
    "            print(f\"⚠️ missing image: {src}\")\n",
    "            continue\n",
    "\n",
    "        stem = Path(fname).stem\n",
    "        dst  = dst_img_dir / f\"{stem}.png\"  # your loader uses f\"{id}.png\"\n",
    "        Image.open(src).convert(\"RGB\").save(dst)\n",
    "\n",
    "        raw = by_img[img_id][\"keypoints\"]         # [x1,y1,v1, x2,y2,v2, ...]\n",
    "        # Build the exact field your dataset reads:\n",
    "        kps_xy = [v for i, v in enumerate(raw) if (i % 3) != 2]   # drop visibility -> [x1,y1,x2,y2,...]\n",
    "\n",
    "        # Write BOTH names for safety: your code uses \"kps\"\n",
    "        items.append({\"id\": stem, \"kps\": kps_xy, \"keypoints\": raw})\n",
    "\n",
    "    json.dump(items, open(dst_json, \"w\"))\n",
    "    print(f\"✅ Wrote {len(items)} -> {dst_img_dir} and {dst_json}\")\n",
    "    return len(items)\n",
    "\n",
    "export_split(rf_train_images, rf_train_ann, out_train_images, out_train_json)\n",
    "export_split(rf_val_images,   rf_val_ann,   out_val_images,   out_val_json)\n",
    "\n",
    "# Keep your variable names untouched\n",
    "train_images = out_train_images\n",
    "val_images   = out_val_images\n",
    "train_ann    = out_train_json\n",
    "val_ann      = out_val_json\n",
    "\n",
    "print(\"train_images:\", train_images)\n",
    "print(\"train_ann   :\", train_ann)\n",
    "print(\"val_images  :\", val_images)\n",
    "print(\"val_ann     :\", val_ann)\n",
    "\n"
   ]
  },
  {
   "cell_type": "code",
   "execution_count": 26,
   "id": "1e490d10",
   "metadata": {},
   "outputs": [],
   "source": [
    "# Obtain datasets\n",
    "train_dataset = keyPointsDataset(str(train_images), str(train_ann))\n",
    "val_dataset   = keyPointsDataset(str(val_images), str(val_ann))\n",
    "\n",
    "train_loader = DataLoader(train_dataset, batch_size=8, shuffle=True)\n",
    "val_loader   = DataLoader(val_dataset, batch_size=8, shuffle=True)"
   ]
  },
  {
   "cell_type": "markdown",
   "id": "41ed3fe6",
   "metadata": {},
   "source": [
    "# Create Model"
   ]
  },
  {
   "cell_type": "code",
   "execution_count": 27,
   "id": "f0d52924",
   "metadata": {},
   "outputs": [],
   "source": [
    "model = models.resnet50(pretrained=True)\n",
    "model.fc = torch.nn.Linear(model.fc.in_features, 12*2) # Replaces the last layer for 12 keypoints (x, y) pairs"
   ]
  },
  {
   "cell_type": "code",
   "execution_count": 28,
   "id": "6f5c95a6",
   "metadata": {},
   "outputs": [],
   "source": [
    "# Move model to device\n",
    "model = model.to(device)"
   ]
  },
  {
   "cell_type": "markdown",
   "id": "1656f29b",
   "metadata": {},
   "source": [
    "# Train Model"
   ]
  },
  {
   "cell_type": "code",
   "execution_count": 39,
   "id": "46edb51e",
   "metadata": {},
   "outputs": [],
   "source": [
    "criterion = torch.nn.MSELoss()\n",
    "optimizer = torch.optim.Adam(model.parameters(), lr=1e-4)"
   ]
  },
  {
   "cell_type": "code",
   "execution_count": 45,
   "id": "6916324f",
   "metadata": {},
   "outputs": [
    {
     "name": "stdout",
     "output_type": "stream",
     "text": [
      "Epoch [1/20], Step [1/4], Loss: 7.342075347900391\n",
      "Epoch [2/20], Step [1/4], Loss: 6.188163757324219\n",
      "Epoch [3/20], Step [1/4], Loss: 14.398063659667969\n",
      "Epoch [4/20], Step [1/4], Loss: 14.615649223327637\n",
      "Epoch [5/20], Step [1/4], Loss: 4.360602855682373\n",
      "Epoch [6/20], Step [1/4], Loss: 6.405500411987305\n",
      "Epoch [7/20], Step [1/4], Loss: 4.837834358215332\n",
      "Epoch [8/20], Step [1/4], Loss: 6.626933574676514\n",
      "Epoch [9/20], Step [1/4], Loss: 5.758828639984131\n",
      "Epoch [10/20], Step [1/4], Loss: 16.11936378479004\n",
      "Epoch [11/20], Step [1/4], Loss: 5.513871669769287\n",
      "Epoch [12/20], Step [1/4], Loss: 7.7306036949157715\n",
      "Epoch [13/20], Step [1/4], Loss: 5.3212571144104\n",
      "Epoch [14/20], Step [1/4], Loss: 3.9121315479278564\n",
      "Epoch [15/20], Step [1/4], Loss: 13.30227279663086\n",
      "Epoch [16/20], Step [1/4], Loss: 3.5669429302215576\n",
      "Epoch [17/20], Step [1/4], Loss: 4.656815052032471\n",
      "Epoch [18/20], Step [1/4], Loss: 3.633469581604004\n",
      "Epoch [19/20], Step [1/4], Loss: 15.32172679901123\n",
      "Epoch [20/20], Step [1/4], Loss: 13.047039985656738\n"
     ]
    }
   ],
   "source": [
    "epochs = 20\n",
    "for epoch in range(epochs):\n",
    "    for i, (imgs, kps) in enumerate(train_loader):\n",
    "        imgs, kps = imgs.to(device), kps.to(device)\n",
    "\n",
    "        optimizer.zero_grad()\n",
    "        outputs = model(imgs)\n",
    "        loss = criterion(outputs, kps)\n",
    "        loss.backward()\n",
    "        optimizer.step()\n",
    "\n",
    "        if i % 10 == 0:\n",
    "            print(f\"Epoch [{epoch+1}/{epochs}], Step [{i+1}/{len(train_loader)}], Loss: {loss.item()}\")"
   ]
  },
  {
   "cell_type": "code",
   "execution_count": 46,
   "id": "a042a5f7",
   "metadata": {},
   "outputs": [],
   "source": [
    "# Save the model\n",
    "torch.save(model.state_dict(), \"keypoint_model.pth\")"
   ]
  }
 ],
 "metadata": {
  "kernelspec": {
   "display_name": "base",
   "language": "python",
   "name": "python3"
  },
  "language_info": {
   "codemirror_mode": {
    "name": "ipython",
    "version": 3
   },
   "file_extension": ".py",
   "mimetype": "text/x-python",
   "name": "python",
   "nbconvert_exporter": "python",
   "pygments_lexer": "ipython3",
   "version": "3.12.7"
  }
 },
 "nbformat": 4,
 "nbformat_minor": 5
}
