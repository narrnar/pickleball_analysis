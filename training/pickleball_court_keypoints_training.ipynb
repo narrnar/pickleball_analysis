{
 "cells": [
  {
   "cell_type": "markdown",
   "id": "96a1d467",
   "metadata": {},
   "source": [
    "# Get Dataset"
   ]
  },
  {
   "cell_type": "code",
   "execution_count": null,
   "id": "b35691cb",
   "metadata": {},
   "outputs": [],
   "source": [
    "# Get roboflow data for pickleball court keypoints detection training\n",
    "!pip install roboflow\n",
    "\n",
    "from roboflow import Roboflow\n",
    "rf = Roboflow(api_key=\"K5y7hyQBmDKQ82NzgM5Q\")\n",
    "project = rf.workspace(\"pickleball-ball-detection\").project(\"pickleball-court-keypoints-syncz\")\n",
    "version = project.version(6)\n",
    "dataset = version.download(\"coco\")"
   ]
  },
  {
   "cell_type": "markdown",
   "id": "7b0bc27f",
   "metadata": {},
   "source": [
    "# Start Code"
   ]
  },
  {
   "cell_type": "code",
   "execution_count": null,
   "id": "5f640135",
   "metadata": {},
   "outputs": [],
   "source": [
    "import torch\n",
    "from torch.utils.data import Dataset, DataLoader\n",
    "from torchvision import models, transforms\n",
    "\n",
    "import json\n",
    "import cv2\n",
    "import numpy as np"
   ]
  },
  {
   "cell_type": "code",
   "execution_count": null,
   "id": "a1290d12",
   "metadata": {},
   "outputs": [],
   "source": [
    "device = torch.device(\"cuda\" if torch.cuda.is_available() else \"cpu\")"
   ]
  },
  {
   "cell_type": "markdown",
   "id": "267268dc",
   "metadata": {},
   "source": [
    "# Create Torch Dataset"
   ]
  },
  {
   "cell_type": "code",
   "execution_count": null,
   "id": "d51b5d7d",
   "metadata": {},
   "outputs": [],
   "source": [
    "class keyPointsDataset(Dataset):\n",
    "    def __init__(self, img_dir, data_file):\n",
    "        self.img_dir = img_dir\n",
    "        with open(data_file, \"r\") as f:\n",
    "            self.data = json.load(f)\n",
    "        \n",
    "        self.transforms = transforms.Compose([\n",
    "            transforms.ToPILImage(),\n",
    "            transforms.Resize((224, 224)),\n",
    "            transforms.ToTensor(),\n",
    "            transforms.Normalize(mean=[0.485, 0.456, 0.406], std=[0.229, 0.224, 0.225])\n",
    "        ])\n",
    "\n",
    "    def __len__(self):\n",
    "        return len(self.data)\n",
    "    \n",
    "    def __getitem__(self, idx):\n",
    "        item = self.data[idx]\n",
    "        img = cv2.imread(f\"{self.img_dir}/{item['id']}.png\")\n",
    "        h, w = img.shape[:2]\n",
    "\n",
    "        img = cv2.cvtColor(img, cv2.COLOR_BGR2RGB)\n",
    "        img = self.transforms(img)\n",
    "        kps = np.array(item['kps']).flatten()\n",
    "        kps = kps.astytpe(np.float32)\n",
    "\n",
    "        # Adjust keypoints\n",
    "        kps[::2] *= (224 / w) # Adjust x coordinates\n",
    "        kps[1::2] *= (224 / h) # Adjust y coordinates\n",
    "\n",
    "        return img, kps\n",
    "    "
   ]
  },
  {
   "cell_type": "code",
   "execution_count": null,
   "id": "aaabdb84",
   "metadata": {},
   "outputs": [],
   "source": [
    "# Using RoboFlow JSON COCO format\n",
    "# Adjust file paths\n",
    "from pathlib import Path\n",
    "\n",
    "root = Path(dataset.location)\n",
    "inner = root / \"Pickleball-1\" if (root / \"Pickleball-1\").exists() else root  # handle your earlier nesting\n",
    "\n",
    "train_images = inner / \"train\"\n",
    "val_images   = inner / (\"valid\" if (inner/\"valid\").exists() else \"val\")\n",
    "\n",
    "# common Roboflow layout:\n",
    "train_ann = train_images / \"_annotations.coco.json\"\n",
    "val_ann   = val_images   / \"_annotations.coco.json\"\n",
    "\n",
    "# fallbacks if your export uses a central annotations dir or different names\n",
    "if not train_ann.exists():\n",
    "    alt = inner / \"annotations\" / \"data_train.json\"\n",
    "    if alt.exists():\n",
    "        train_ann = alt\n",
    "if not val_ann.exists():\n",
    "    alt = inner / \"annotations\" / \"data_val.json\"\n",
    "    if alt.exists():\n",
    "        val_ann = alt\n",
    "\n",
    "print(train_images, train_ann)\n",
    "print(val_images, val_ann)\n"
   ]
  },
  {
   "cell_type": "code",
   "execution_count": null,
   "id": "1e490d10",
   "metadata": {},
   "outputs": [],
   "source": [
    "# Obtain datasets\n",
    "train_dataset = keyPointsDataset(str(train_images), str(train_ann))\n",
    "val_dataset   = keyPointsDataset(str(val_images), str(val_ann))\n",
    "\n",
    "train_loader = DataLoader(train_dataset, batch_size=8, shuffle=True)\n",
    "val_loader   = DataLoader(val_dataset, batch_size=8, shuffle=True)"
   ]
  },
  {
   "cell_type": "markdown",
   "id": "41ed3fe6",
   "metadata": {},
   "source": [
    "# Create Model"
   ]
  },
  {
   "cell_type": "code",
   "execution_count": null,
   "id": "f0d52924",
   "metadata": {},
   "outputs": [],
   "source": [
    "model = models.resnet50(pretrained=True) "
   ]
  }
 ],
 "metadata": {
  "language_info": {
   "name": "python"
  }
 },
 "nbformat": 4,
 "nbformat_minor": 5
}
